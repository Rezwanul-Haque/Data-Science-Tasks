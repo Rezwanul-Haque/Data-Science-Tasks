{
 "cells": [
  {
   "cell_type": "markdown",
   "metadata": {},
   "source": [
    "# Necessary library install (uncomment below lines to install)"
   ]
  },
  {
   "cell_type": "code",
   "execution_count": 4,
   "metadata": {},
   "outputs": [],
   "source": [
    "# !pip install matplotlib\n",
    "# !pip install numpy\n",
    "# !pip install pandas\n",
    "# !pip install seaborn"
   ]
  },
  {
   "cell_type": "markdown",
   "metadata": {},
   "source": [
    "## Importing necessary libraries"
   ]
  },
  {
   "cell_type": "code",
   "execution_count": 2,
   "metadata": {},
   "outputs": [],
   "source": [
    "import warnings\n",
    "warnings.filterwarnings('ignore')\n",
    "\n",
    "import matplotlib.pyplot as plt\n",
    "import numpy as np\n",
    "import pandas as pd\n",
    "import seaborn as sns"
   ]
  },
  {
   "cell_type": "markdown",
   "metadata": {},
   "source": [
    "# Dataset discription\n",
    "Feature - 83\n",
    "\n",
    "rows - 41198"
   ]
  },
  {
   "cell_type": "markdown",
   "metadata": {},
   "source": [
    "# Acquisition"
   ]
  },
  {
   "cell_type": "code",
   "execution_count": 3,
   "metadata": {},
   "outputs": [
    {
     "data": {
      "text/html": [
       "<div>\n",
       "<style scoped>\n",
       "    .dataframe tbody tr th:only-of-type {\n",
       "        vertical-align: middle;\n",
       "    }\n",
       "\n",
       "    .dataframe tbody tr th {\n",
       "        vertical-align: top;\n",
       "    }\n",
       "\n",
       "    .dataframe thead th {\n",
       "        text-align: right;\n",
       "    }\n",
       "</style>\n",
       "<table border=\"1\" class=\"dataframe\">\n",
       "  <thead>\n",
       "    <tr style=\"text-align: right;\">\n",
       "      <th></th>\n",
       "      <th>barrels08</th>\n",
       "      <th>barrelsA08</th>\n",
       "      <th>charge120</th>\n",
       "      <th>charge240</th>\n",
       "      <th>city08</th>\n",
       "      <th>city08U</th>\n",
       "      <th>cityA08</th>\n",
       "      <th>cityA08U</th>\n",
       "      <th>cityCD</th>\n",
       "      <th>cityE</th>\n",
       "      <th>...</th>\n",
       "      <th>mfrCode</th>\n",
       "      <th>c240Dscr</th>\n",
       "      <th>charge240b</th>\n",
       "      <th>c240bDscr</th>\n",
       "      <th>createdOn</th>\n",
       "      <th>modifiedOn</th>\n",
       "      <th>startStop</th>\n",
       "      <th>phevCity</th>\n",
       "      <th>phevHwy</th>\n",
       "      <th>phevComb</th>\n",
       "    </tr>\n",
       "  </thead>\n",
       "  <tbody>\n",
       "    <tr>\n",
       "      <th>0</th>\n",
       "      <td>15.695714</td>\n",
       "      <td>0.0</td>\n",
       "      <td>0.0</td>\n",
       "      <td>0.0</td>\n",
       "      <td>19</td>\n",
       "      <td>0.0</td>\n",
       "      <td>0</td>\n",
       "      <td>0.0</td>\n",
       "      <td>0.0</td>\n",
       "      <td>0.0</td>\n",
       "      <td>...</td>\n",
       "      <td>NaN</td>\n",
       "      <td>NaN</td>\n",
       "      <td>0.0</td>\n",
       "      <td>NaN</td>\n",
       "      <td>Tue Jan 01 00:00:00 EST 2013</td>\n",
       "      <td>Tue Jan 01 00:00:00 EST 2013</td>\n",
       "      <td>NaN</td>\n",
       "      <td>0</td>\n",
       "      <td>0</td>\n",
       "      <td>0</td>\n",
       "    </tr>\n",
       "    <tr>\n",
       "      <th>1</th>\n",
       "      <td>29.964545</td>\n",
       "      <td>0.0</td>\n",
       "      <td>0.0</td>\n",
       "      <td>0.0</td>\n",
       "      <td>9</td>\n",
       "      <td>0.0</td>\n",
       "      <td>0</td>\n",
       "      <td>0.0</td>\n",
       "      <td>0.0</td>\n",
       "      <td>0.0</td>\n",
       "      <td>...</td>\n",
       "      <td>NaN</td>\n",
       "      <td>NaN</td>\n",
       "      <td>0.0</td>\n",
       "      <td>NaN</td>\n",
       "      <td>Tue Jan 01 00:00:00 EST 2013</td>\n",
       "      <td>Tue Jan 01 00:00:00 EST 2013</td>\n",
       "      <td>NaN</td>\n",
       "      <td>0</td>\n",
       "      <td>0</td>\n",
       "      <td>0</td>\n",
       "    </tr>\n",
       "    <tr>\n",
       "      <th>2</th>\n",
       "      <td>12.207778</td>\n",
       "      <td>0.0</td>\n",
       "      <td>0.0</td>\n",
       "      <td>0.0</td>\n",
       "      <td>23</td>\n",
       "      <td>0.0</td>\n",
       "      <td>0</td>\n",
       "      <td>0.0</td>\n",
       "      <td>0.0</td>\n",
       "      <td>0.0</td>\n",
       "      <td>...</td>\n",
       "      <td>NaN</td>\n",
       "      <td>NaN</td>\n",
       "      <td>0.0</td>\n",
       "      <td>NaN</td>\n",
       "      <td>Tue Jan 01 00:00:00 EST 2013</td>\n",
       "      <td>Tue Jan 01 00:00:00 EST 2013</td>\n",
       "      <td>NaN</td>\n",
       "      <td>0</td>\n",
       "      <td>0</td>\n",
       "      <td>0</td>\n",
       "    </tr>\n",
       "    <tr>\n",
       "      <th>3</th>\n",
       "      <td>29.964545</td>\n",
       "      <td>0.0</td>\n",
       "      <td>0.0</td>\n",
       "      <td>0.0</td>\n",
       "      <td>10</td>\n",
       "      <td>0.0</td>\n",
       "      <td>0</td>\n",
       "      <td>0.0</td>\n",
       "      <td>0.0</td>\n",
       "      <td>0.0</td>\n",
       "      <td>...</td>\n",
       "      <td>NaN</td>\n",
       "      <td>NaN</td>\n",
       "      <td>0.0</td>\n",
       "      <td>NaN</td>\n",
       "      <td>Tue Jan 01 00:00:00 EST 2013</td>\n",
       "      <td>Tue Jan 01 00:00:00 EST 2013</td>\n",
       "      <td>NaN</td>\n",
       "      <td>0</td>\n",
       "      <td>0</td>\n",
       "      <td>0</td>\n",
       "    </tr>\n",
       "    <tr>\n",
       "      <th>4</th>\n",
       "      <td>17.347895</td>\n",
       "      <td>0.0</td>\n",
       "      <td>0.0</td>\n",
       "      <td>0.0</td>\n",
       "      <td>17</td>\n",
       "      <td>0.0</td>\n",
       "      <td>0</td>\n",
       "      <td>0.0</td>\n",
       "      <td>0.0</td>\n",
       "      <td>0.0</td>\n",
       "      <td>...</td>\n",
       "      <td>NaN</td>\n",
       "      <td>NaN</td>\n",
       "      <td>0.0</td>\n",
       "      <td>NaN</td>\n",
       "      <td>Tue Jan 01 00:00:00 EST 2013</td>\n",
       "      <td>Tue Jan 01 00:00:00 EST 2013</td>\n",
       "      <td>NaN</td>\n",
       "      <td>0</td>\n",
       "      <td>0</td>\n",
       "      <td>0</td>\n",
       "    </tr>\n",
       "  </tbody>\n",
       "</table>\n",
       "<p>5 rows × 83 columns</p>\n",
       "</div>"
      ],
      "text/plain": [
       "   barrels08  barrelsA08  charge120  charge240  city08  city08U  cityA08  \\\n",
       "0  15.695714         0.0        0.0        0.0      19      0.0        0   \n",
       "1  29.964545         0.0        0.0        0.0       9      0.0        0   \n",
       "2  12.207778         0.0        0.0        0.0      23      0.0        0   \n",
       "3  29.964545         0.0        0.0        0.0      10      0.0        0   \n",
       "4  17.347895         0.0        0.0        0.0      17      0.0        0   \n",
       "\n",
       "   cityA08U  cityCD  cityE  ...  mfrCode  c240Dscr  charge240b  c240bDscr  \\\n",
       "0       0.0     0.0    0.0  ...      NaN       NaN         0.0        NaN   \n",
       "1       0.0     0.0    0.0  ...      NaN       NaN         0.0        NaN   \n",
       "2       0.0     0.0    0.0  ...      NaN       NaN         0.0        NaN   \n",
       "3       0.0     0.0    0.0  ...      NaN       NaN         0.0        NaN   \n",
       "4       0.0     0.0    0.0  ...      NaN       NaN         0.0        NaN   \n",
       "\n",
       "                      createdOn                    modifiedOn  startStop  \\\n",
       "0  Tue Jan 01 00:00:00 EST 2013  Tue Jan 01 00:00:00 EST 2013        NaN   \n",
       "1  Tue Jan 01 00:00:00 EST 2013  Tue Jan 01 00:00:00 EST 2013        NaN   \n",
       "2  Tue Jan 01 00:00:00 EST 2013  Tue Jan 01 00:00:00 EST 2013        NaN   \n",
       "3  Tue Jan 01 00:00:00 EST 2013  Tue Jan 01 00:00:00 EST 2013        NaN   \n",
       "4  Tue Jan 01 00:00:00 EST 2013  Tue Jan 01 00:00:00 EST 2013        NaN   \n",
       "\n",
       "   phevCity  phevHwy  phevComb  \n",
       "0         0        0         0  \n",
       "1         0        0         0  \n",
       "2         0        0         0  \n",
       "3         0        0         0  \n",
       "4         0        0         0  \n",
       "\n",
       "[5 rows x 83 columns]"
      ]
     },
     "execution_count": 3,
     "metadata": {},
     "output_type": "execute_result"
    }
   ],
   "source": [
    "## loading dataset to a variable\n",
    "vehicles_data = pd.read_csv(\"dataset/vehicles.csv\")\n",
    "## showing top 6 row of the dataset\n",
    "vehicles_data.head()\n",
    "## showing last 6 row of the dataset\n",
    "# vehicles_data.tail()"
   ]
  },
  {
   "cell_type": "markdown",
   "metadata": {},
   "source": [
    "# Exploration and understanding"
   ]
  },
  {
   "cell_type": "markdown",
   "metadata": {},
   "source": [
    "## Data Description"
   ]
  },
  {
   "cell_type": "markdown",
   "metadata": {},
   "source": [
    "#### Variable Identification"
   ]
  },
  {
   "cell_type": "markdown",
   "metadata": {},
   "source": [
    "variable type and description can be found on the headers.names file in the dataset folder.\n",
    "\n",
    "# Head columns and type\n",
    "\n",
    "atvtype - type of alternative fuel or advanced technology vehicle\n",
    "\n",
    "barrels08 - annual petroleum consumption in barrels for fuelType1 (1)\n",
    "\n",
    "barrelsA08 - annual petroleum consumption in barrels for fuelType2 (1)\n",
    "\n",
    "charge120 - time to charge an electric vehicle in hours at 120 V \n",
    "\n",
    "charge240 - time to charge an electric vehicle in hours at 240 V "
   ]
  },
  {
   "cell_type": "code",
   "execution_count": 16,
   "metadata": {},
   "outputs": [
    {
     "data": {
      "text/plain": [
       "(41197, 83)"
      ]
     },
     "execution_count": 16,
     "metadata": {},
     "output_type": "execute_result"
    }
   ],
   "source": [
    "# number of rows # number of columns\n",
    "# rows, columns\n",
    "vehicles_data.shape"
   ]
  },
  {
   "cell_type": "code",
   "execution_count": 17,
   "metadata": {},
   "outputs": [
    {
     "name": "stdout",
     "output_type": "stream",
     "text": [
      "<class 'pandas.core.frame.DataFrame'>\n",
      "RangeIndex: 41197 entries, 0 to 41196\n",
      "Data columns (total 83 columns):\n",
      "barrels08          41197 non-null float64\n",
      "barrelsA08         41197 non-null float64\n",
      "charge120          41197 non-null float64\n",
      "charge240          41197 non-null float64\n",
      "city08             41197 non-null int64\n",
      "city08U            41197 non-null float64\n",
      "cityA08            41197 non-null int64\n",
      "cityA08U           41197 non-null float64\n",
      "cityCD             41197 non-null float64\n",
      "cityE              41197 non-null float64\n",
      "cityUF             41197 non-null float64\n",
      "co2                41197 non-null int64\n",
      "co2A               41197 non-null int64\n",
      "co2TailpipeAGpm    41197 non-null float64\n",
      "co2TailpipeGpm     41197 non-null float64\n",
      "comb08             41197 non-null int64\n",
      "comb08U            41197 non-null float64\n",
      "combA08            41197 non-null int64\n",
      "combA08U           41197 non-null float64\n",
      "combE              41197 non-null float64\n",
      "combinedCD         41197 non-null float64\n",
      "combinedUF         41197 non-null float64\n",
      "cylinders          40988 non-null float64\n",
      "displ              40990 non-null float64\n",
      "drive              40008 non-null object\n",
      "engId              41197 non-null int64\n",
      "eng_dscr           25035 non-null object\n",
      "feScore            41197 non-null int64\n",
      "fuelCost08         41197 non-null int64\n",
      "fuelCostA08        41197 non-null int64\n",
      "fuelType           41197 non-null object\n",
      "fuelType1          41197 non-null object\n",
      "ghgScore           41197 non-null int64\n",
      "ghgScoreA          41197 non-null int64\n",
      "highway08          41197 non-null int64\n",
      "highway08U         41197 non-null float64\n",
      "highwayA08         41197 non-null int64\n",
      "highwayA08U        41197 non-null float64\n",
      "highwayCD          41197 non-null float64\n",
      "highwayE           41197 non-null float64\n",
      "highwayUF          41197 non-null float64\n",
      "hlv                41197 non-null int64\n",
      "hpv                41197 non-null int64\n",
      "id                 41197 non-null int64\n",
      "lv2                41197 non-null int64\n",
      "lv4                41197 non-null int64\n",
      "make               41197 non-null object\n",
      "model              41197 non-null object\n",
      "mpgData            41197 non-null object\n",
      "phevBlended        41197 non-null bool\n",
      "pv2                41197 non-null int64\n",
      "pv4                41197 non-null int64\n",
      "range              41197 non-null int64\n",
      "rangeCity          41197 non-null float64\n",
      "rangeCityA         41197 non-null float64\n",
      "rangeHwy           41197 non-null float64\n",
      "rangeHwyA          41197 non-null float64\n",
      "trany              41186 non-null object\n",
      "UCity              41197 non-null float64\n",
      "UCityA             41197 non-null float64\n",
      "UHighway           41197 non-null float64\n",
      "UHighwayA          41197 non-null float64\n",
      "VClass             41197 non-null object\n",
      "year               41197 non-null int64\n",
      "youSaveSpend       41197 non-null int64\n",
      "guzzler            2423 non-null object\n",
      "trans_dscr         15047 non-null object\n",
      "tCharger           6910 non-null object\n",
      "sCharger           846 non-null object\n",
      "atvType            3565 non-null object\n",
      "fuelType2          1608 non-null object\n",
      "rangeA             1603 non-null object\n",
      "evMotor            856 non-null object\n",
      "mfrCode            10379 non-null object\n",
      "c240Dscr           84 non-null object\n",
      "charge240b         41197 non-null float64\n",
      "c240bDscr          80 non-null object\n",
      "createdOn          41197 non-null object\n",
      "modifiedOn         41197 non-null object\n",
      "startStop          9493 non-null object\n",
      "phevCity           41197 non-null int64\n",
      "phevHwy            41197 non-null int64\n",
      "phevComb           41197 non-null int64\n",
      "dtypes: bool(1), float64(32), int64(27), object(23)\n",
      "memory usage: 25.8+ MB\n"
     ]
    }
   ],
   "source": [
    "# Variables and their type info\n",
    "vehicles_data.info()"
   ]
  },
  {
   "cell_type": "code",
   "execution_count": 14,
   "metadata": {},
   "outputs": [],
   "source": [
    "## checking unique, min, max year in the dataset\n",
    "# len(set(vehicles_data['year'])) # python way\n",
    "unique_years = vehicles_data['year'].nunique() # pandas way\n",
    "min_year = vehicles_data['year'].min()\n",
    "max_year = vehicles_data['year'].max()"
   ]
  },
  {
   "cell_type": "code",
   "execution_count": 17,
   "metadata": {},
   "outputs": [
    {
     "name": "stdout",
     "output_type": "stream",
     "text": [
      "Unique year: 37\n",
      "Minimum year: 1984\n",
      "Maximum year: 2020\n"
     ]
    }
   ],
   "source": [
    "print(\"Unique year:\", unique_years)\n",
    "print(\"Minimum year:\", min_year)\n",
    "print(\"Maximum year:\", max_year)"
   ]
  },
  {
   "cell_type": "code",
   "execution_count": 20,
   "metadata": {},
   "outputs": [
    {
     "data": {
      "text/plain": [
       "6"
      ]
     },
     "execution_count": 20,
     "metadata": {},
     "output_type": "execute_result"
    }
   ],
   "source": [
    "# Fuel type would be a important fetaure\n",
    "# Q what types of fuel are used as the automobiles' primary fuel types\n",
    "unique_fuel_type_1 = vehicles_data['fuelType1'].nunique()\n",
    "unique_fuel_type_1\n",
    "\n",
    "## Their are 6 unique fueltypes"
   ]
  },
  {
   "cell_type": "code",
   "execution_count": 24,
   "metadata": {},
   "outputs": [
    {
     "data": {
      "text/plain": [
       "Regular Gasoline     27861\n",
       "Premium Gasoline     11784\n",
       "Diesel                1180\n",
       "Electricity            206\n",
       "Midgrade Gasoline      106\n",
       "Natural Gas             60\n",
       "Name: fuelType1, dtype: int64"
      ]
     },
     "execution_count": 24,
     "metadata": {},
     "output_type": "execute_result"
    }
   ],
   "source": [
    "vehicles_data['fuelType1'].value_counts()\n",
    "\n",
    "# Insight : looks like most most cars in the dataset use regular gasoline, \n",
    "# and the second most common fuel type is premium gasoline"
   ]
  },
  {
   "cell_type": "code",
   "execution_count": 53,
   "metadata": {},
   "outputs": [],
   "source": [
    "## Separating boolean, numerical and categorical columns.\n",
    "def column_types_in_df(dataFrame:pd.DataFrame, variable_type:list):\n",
    "    \"\"\"\n",
    "    This function will return boolean or Numeric or Categorical variable from a dataFrame and their length\n",
    "    \n",
    "    Arguments: [dataFrame] : A pandas data frame\n",
    "               [variable_type] : A list of variable types\n",
    "    example:\n",
    "        ['float64','float32','int32','int64'] represents Numeric Variable\n",
    "        ['bool'] represents boolean Varible\n",
    "        ['object'] represents Categorical Varible\n",
    "    \"\"\"\n",
    "    column_types = [key for key in dict(dataFrame.dtypes)\n",
    "             if dict(dataFrame.dtypes)[key] in variable_type ]\n",
    "    \n",
    "    return column_types, len(column_types)"
   ]
  },
  {
   "cell_type": "code",
   "execution_count": 37,
   "metadata": {},
   "outputs": [],
   "source": [
    "## Separating boolean, numerical and categorical columns.\n",
    "# boolean_columns = [key for key in dict(vehicles_data.dtypes)\n",
    "#              if dict(vehicles_data.dtypes)[key] in ['bool'] ] # boolean Varible\n",
    "\n",
    "# numeric_columns = [key for key in dict(vehicles_data.dtypes)\n",
    "#                    if dict(vehicles_data.dtypes)[key]\n",
    "#                        in ['float64','float32','int32','int64']] # Numeric Variable\n",
    "\n",
    "# categorical_columns = [key for key in dict(vehicles_data.dtypes)\n",
    "#              if dict(vehicles_data.dtypes)[key] in ['object'] ] # Categorical Varible"
   ]
  },
  {
   "cell_type": "code",
   "execution_count": 54,
   "metadata": {},
   "outputs": [],
   "source": [
    "boolean_columns, boolean_columns_length = column_types_in_df(vehicles_data, ['bool'])\n",
    "numeric_columns, numeric_columns_length = column_types_in_df(vehicles_data, ['float64','float32','int32','int64'])\n",
    "categorical_columns, categorical_columns_length = column_types_in_df(vehicles_data, ['object'])"
   ]
  },
  {
   "cell_type": "code",
   "execution_count": 59,
   "metadata": {},
   "outputs": [
    {
     "name": "stdout",
     "output_type": "stream",
     "text": [
      "Boolean columns:\n",
      "['phevBlended']\n",
      "Numerical columns:\n",
      "['barrels08', 'barrelsA08', 'charge120', 'charge240', 'city08', 'city08U', 'cityA08', 'cityA08U', 'cityCD', 'cityE', 'cityUF', 'co2', 'co2A', 'co2TailpipeAGpm', 'co2TailpipeGpm', 'comb08', 'comb08U', 'combA08', 'combA08U', 'combE', 'combinedCD', 'combinedUF', 'cylinders', 'displ', 'engId', 'feScore', 'fuelCost08', 'fuelCostA08', 'ghgScore', 'ghgScoreA', 'highway08', 'highway08U', 'highwayA08', 'highwayA08U', 'highwayCD', 'highwayE', 'highwayUF', 'hlv', 'hpv', 'id', 'lv2', 'lv4', 'pv2', 'pv4', 'range', 'rangeCity', 'rangeCityA', 'rangeHwy', 'rangeHwyA', 'UCity', 'UCityA', 'UHighway', 'UHighwayA', 'year', 'youSaveSpend', 'charge240b', 'phevCity', 'phevHwy', 'phevComb']\n",
      "Categorical columns:\n",
      "['drive', 'eng_dscr', 'fuelType', 'fuelType1', 'make', 'model', 'mpgData', 'trany', 'VClass', 'guzzler', 'trans_dscr', 'tCharger', 'sCharger', 'atvType', 'fuelType2', 'rangeA', 'evMotor', 'mfrCode', 'c240Dscr', 'c240bDscr', 'createdOn', 'modifiedOn', 'startStop']\n"
     ]
    }
   ],
   "source": [
    "print(\"Boolean columns:\")\n",
    "print(boolean_columns)\n",
    "print(\"Numerical columns:\")\n",
    "print(numeric_columns)\n",
    "print(\"Categorical columns:\")\n",
    "print(categorical_columns)"
   ]
  },
  {
   "cell_type": "code",
   "execution_count": 56,
   "metadata": {},
   "outputs": [
    {
     "name": "stdout",
     "output_type": "stream",
     "text": [
      "1\n",
      "59\n",
      "23\n"
     ]
    }
   ],
   "source": [
    "print(boolean_columns_length)\n",
    "print(numeric_columns_length)\n",
    "print(categorical_columns_length)"
   ]
  },
  {
   "cell_type": "code",
   "execution_count": 44,
   "metadata": {},
   "outputs": [],
   "source": [
    "## Counting missing values in the dataset.\n",
    "missing_values_freq = vehicles_data[boolean_columns + numeric_columns + categorical_columns].isnull().sum()"
   ]
  },
  {
   "cell_type": "code",
   "execution_count": 50,
   "metadata": {},
   "outputs": [
    {
     "data": {
      "text/plain": [
       "phevBlended            0\n",
       "barrels08              0\n",
       "barrelsA08             0\n",
       "charge120              0\n",
       "charge240              0\n",
       "city08                 0\n",
       "city08U                0\n",
       "cityA08                0\n",
       "cityA08U               0\n",
       "cityCD                 0\n",
       "cityE                  0\n",
       "cityUF                 0\n",
       "co2                    0\n",
       "co2A                   0\n",
       "co2TailpipeAGpm        0\n",
       "co2TailpipeGpm         0\n",
       "comb08                 0\n",
       "comb08U                0\n",
       "combA08                0\n",
       "combA08U               0\n",
       "combE                  0\n",
       "combinedCD             0\n",
       "combinedUF             0\n",
       "cylinders            209\n",
       "displ                207\n",
       "engId                  0\n",
       "feScore                0\n",
       "fuelCost08             0\n",
       "fuelCostA08            0\n",
       "ghgScore               0\n",
       "                   ...  \n",
       "UHighwayA              0\n",
       "year                   0\n",
       "youSaveSpend           0\n",
       "charge240b             0\n",
       "phevCity               0\n",
       "phevHwy                0\n",
       "phevComb               0\n",
       "drive               1189\n",
       "eng_dscr           16162\n",
       "fuelType               0\n",
       "fuelType1              0\n",
       "make                   0\n",
       "model                  0\n",
       "mpgData                0\n",
       "trany                 11\n",
       "VClass                 0\n",
       "guzzler            38774\n",
       "trans_dscr         26150\n",
       "tCharger           34287\n",
       "sCharger           40351\n",
       "atvType            37632\n",
       "fuelType2          39589\n",
       "rangeA             39594\n",
       "evMotor            40341\n",
       "mfrCode            30818\n",
       "c240Dscr           41113\n",
       "c240bDscr          41117\n",
       "createdOn              0\n",
       "modifiedOn             0\n",
       "startStop          31704\n",
       "Length: 83, dtype: int64"
      ]
     },
     "execution_count": 50,
     "metadata": {},
     "output_type": "execute_result"
    }
   ],
   "source": [
    "missing_values_freq\n",
    "# Insight : looks like lots of missing values some values are pretty bad like \n",
    "# guzzler            38774\n",
    "# trans_dscr         26150\n",
    "# tCharger           34287\n",
    "# sCharger           40351\n",
    "# atvType            37632\n",
    "# fuelType2          39589\n",
    "# rangeA             39594\n",
    "# evMotor            40341\n",
    "# mfrCode            30818\n",
    "# c240Dscr           41113\n",
    "# c240bDscr          41117\n",
    "# startStop          31704\n",
    "\n",
    "# TODO: We have to handle missing value"
   ]
  },
  {
   "cell_type": "markdown",
   "metadata": {},
   "source": [
    "# Munging, wrangling, and manipulation"
   ]
  },
  {
   "cell_type": "code",
   "execution_count": null,
   "metadata": {},
   "outputs": [],
   "source": []
  },
  {
   "cell_type": "markdown",
   "metadata": {},
   "source": [
    "# Analysis and modeling"
   ]
  },
  {
   "cell_type": "code",
   "execution_count": null,
   "metadata": {},
   "outputs": [],
   "source": []
  },
  {
   "cell_type": "markdown",
   "metadata": {},
   "source": [
    "# Communication and operationalization"
   ]
  },
  {
   "cell_type": "code",
   "execution_count": null,
   "metadata": {},
   "outputs": [],
   "source": []
  }
 ],
 "metadata": {
  "kernelspec": {
   "display_name": "Python 3",
   "language": "python",
   "name": "python3"
  },
  "language_info": {
   "codemirror_mode": {
    "name": "ipython",
    "version": 3
   },
   "file_extension": ".py",
   "mimetype": "text/x-python",
   "name": "python",
   "nbconvert_exporter": "python",
   "pygments_lexer": "ipython3",
   "version": "3.7.3"
  }
 },
 "nbformat": 4,
 "nbformat_minor": 2
}
